{
 "cells": [
  {
   "cell_type": "markdown",
   "metadata": {
    "vscode": {
     "languageId": "plaintext"
    }
   },
   "source": [
    "Exercise 1 – Coin change\n",
    "Given an array of integer numbers that represent the values of each coin, and given a target amount, determine the minimum number of coins needed to create this amount. At first, try to solve this problem with regular coins (i.e., 1,5,10,20,50), then try with different irregular coin values (e.g., 1,7,12, 38).\n",
    "\n",
    "Example 1\n",
    "Given coin values (1, 2, 5,10,20,50), with \n",
    "Target amount = 7; solution = 2 coins (5,2)\n",
    "Target amount = 150; solution = 3 coins (50,50,50)\n",
    "Target amount = 28; solution = 4 coins (20,5,2,1)\n",
    " \n",
    "Example 2\n",
    "Given coin values (1,4,6), with:\n",
    "Target amount = 7; solution = 2 coins (6,1)\n",
    "Target amount = 9; solution = 3 coins (4,4,1)\n",
    " \n",
    "Only the number of coins is required, the coins used are not important for this exercise.\n",
    "\n",
    "Hint\n",
    "Which amounts require the fewest coins?\n"
   ]
  },
  {
   "cell_type": "code",
   "execution_count": 8,
   "metadata": {},
   "outputs": [
    {
     "ename": "ValueError",
     "evalue": "invalid literal for int() with base 10: ''",
     "output_type": "error",
     "traceback": [
      "\u001b[0;31m---------------------------------------------------------------------------\u001b[0m",
      "\u001b[0;31mValueError\u001b[0m                                Traceback (most recent call last)",
      "Cell \u001b[0;32mIn[8], line 35\u001b[0m\n\u001b[1;32m     32\u001b[0m                 states[i] \u001b[38;5;241m=\u001b[39m states[i\u001b[38;5;241m-\u001b[39mcoin]\u001b[38;5;241m+\u001b[39m\u001b[38;5;241m1\u001b[39m\n\u001b[1;32m     33\u001b[0m     \u001b[38;5;28;01mreturn\u001b[39;00m states[target]\n\u001b[0;32m---> 35\u001b[0m (coins, targets )\u001b[38;5;241m=\u001b[39m \u001b[43mget_input\u001b[49m\u001b[43m(\u001b[49m\u001b[43m)\u001b[49m\n\u001b[1;32m     36\u001b[0m \u001b[38;5;28;01mfor\u001b[39;00m target \u001b[38;5;129;01min\u001b[39;00m targets:\n\u001b[1;32m     37\u001b[0m     \u001b[38;5;28mprint\u001b[39m(dp(coins, target))\n",
      "Cell \u001b[0;32mIn[8], line 2\u001b[0m, in \u001b[0;36mget_input\u001b[0;34m()\u001b[0m\n\u001b[1;32m      1\u001b[0m \u001b[38;5;28;01mdef\u001b[39;00m\u001b[38;5;250m \u001b[39m\u001b[38;5;21mget_input\u001b[39m():\n\u001b[0;32m----> 2\u001b[0m     coins \u001b[38;5;241m=\u001b[39m \u001b[43mget_coins\u001b[49m\u001b[43m(\u001b[49m\u001b[43m)\u001b[49m\n\u001b[1;32m      3\u001b[0m     targets \u001b[38;5;241m=\u001b[39m get_targets()\n\u001b[1;32m      4\u001b[0m     \u001b[38;5;28;01mreturn\u001b[39;00m coins, targets\n",
      "Cell \u001b[0;32mIn[8], line 11\u001b[0m, in \u001b[0;36mget_coins\u001b[0;34m()\u001b[0m\n\u001b[1;32m      9\u001b[0m coins \u001b[38;5;241m=\u001b[39m []\n\u001b[1;32m     10\u001b[0m \u001b[38;5;28;01mfor\u001b[39;00m number \u001b[38;5;129;01min\u001b[39;00m numbers:\n\u001b[0;32m---> 11\u001b[0m     coins\u001b[38;5;241m.\u001b[39mappend(\u001b[38;5;28;43mint\u001b[39;49m\u001b[43m(\u001b[49m\u001b[43mnumber\u001b[49m\u001b[43m)\u001b[49m)\n\u001b[1;32m     12\u001b[0m coins\u001b[38;5;241m.\u001b[39msort()\n\u001b[1;32m     13\u001b[0m \u001b[38;5;28;01mreturn\u001b[39;00m coins\n",
      "\u001b[0;31mValueError\u001b[0m: invalid literal for int() with base 10: ''"
     ]
    }
   ],
   "source": [
    "def get_input():\n",
    "    coins = get_coins()\n",
    "    targets = get_targets()\n",
    "    return coins, targets\n",
    "\n",
    "def get_coins():\n",
    "    line = input(\"Please enter the provided coins: \")\n",
    "    numbers = line.strip(\"()\").split(\", \")\n",
    "    coins = []\n",
    "    for number in numbers:\n",
    "        coins.append(int(number))\n",
    "    coins.sort()\n",
    "    return coins\n",
    "\n",
    "def get_targets():\n",
    "    targets = []\n",
    "    while True:\n",
    "        line = input(\"Please enter the target amount: \")\n",
    "        if line == \"STOP\":\n",
    "            break\n",
    "        targets.append(int(line))\n",
    "    return targets\n",
    "\n",
    "\n",
    "def dp(coins, target):\n",
    "    max_coins_amount = target // coins[0] + 1\n",
    "    states = [max_coins_amount] * (target+1)\n",
    "    states[0] = 0\n",
    "    for i in range(target + 1):\n",
    "        for coin in coins:\n",
    "            if i - coin >= 0 and states[i-coin]+1 < states[i]:\n",
    "                states[i] = states[i-coin]+1\n",
    "    return states[target]\n",
    "\n",
    "(coins, targets )= get_input()\n",
    "for target in targets:\n",
    "    print(dp(coins, target))\n",
    "\n",
    "        \n",
    "\n"
   ]
  },
  {
   "cell_type": "markdown",
   "metadata": {},
   "source": [
    "Exercise 2 – Fibonacci Sequence\n",
    "Given an integer number n, write two functions (one recursively and another iteratively) that output the nth Fibonacci number. A Fibonacci sequence is a series of numbers which starts from 0 and 1 and continues with each number (Fibonacci number) being the sum of the two preceding numbers. What’s the difference in space complexity between the iterative and recursive method? \n",
    "\n",
    "Examples:  \n",
    "•\tFibonacci(5) = 3 \n",
    "•\tFibonacci(10) = 34"
   ]
  },
  {
   "cell_type": "code",
   "execution_count": 3,
   "metadata": {},
   "outputs": [
    {
     "name": "stdout",
     "output_type": "stream",
     "text": [
      "34\n"
     ]
    }
   ],
   "source": [
    "class Fibonacci_rec:\n",
    "    def __init__(self, n):\n",
    "        self.states = [-1] * (n+1)\n",
    "        self.states[0] = 0\n",
    "        self.states[1] = 0\n",
    "        self.states[2] = 1\n",
    "    \n",
    "    def get_fibo_rec(self, n):\n",
    "        if self.states[n] != -1:\n",
    "            return self.states[n]\n",
    "        ans = self.get_fibo_rec(n-1) + self.get_fibo_rec(n-2)\n",
    "        self.states[n] = ans\n",
    "        return ans\n",
    "\n",
    "N = 10\n",
    "test1 = Fibonacci_rec(N)\n",
    "print(test1.get_fibo_rec(N))"
   ]
  },
  {
   "cell_type": "code",
   "execution_count": 7,
   "metadata": {},
   "outputs": [
    {
     "name": "stdout",
     "output_type": "stream",
     "text": [
      "3\n",
      "34\n"
     ]
    },
    {
     "data": {
      "text/plain": [
       "34"
      ]
     },
     "execution_count": 7,
     "metadata": {},
     "output_type": "execute_result"
    }
   ],
   "source": [
    "def fibonacci_itr(n):\n",
    "    states = [0] * 3\n",
    "    states[0] = 0\n",
    "    states[1] = 0\n",
    "    states[2] = 1\n",
    "    for i in range(3, n+1):\n",
    "        states.append(states[i-1] + states[i-2])\n",
    "    print(states[n])\n",
    "    return(states[n])\n",
    "\n",
    "fibonacci_itr(5)\n",
    "fibonacci_itr(10)"
   ]
  }
 ],
 "metadata": {
  "kernelspec": {
   "display_name": "base",
   "language": "python",
   "name": "python3"
  },
  "language_info": {
   "codemirror_mode": {
    "name": "ipython",
    "version": 3
   },
   "file_extension": ".py",
   "mimetype": "text/x-python",
   "name": "python",
   "nbconvert_exporter": "python",
   "pygments_lexer": "ipython3",
   "version": "3.12.2"
  }
 },
 "nbformat": 4,
 "nbformat_minor": 2
}
