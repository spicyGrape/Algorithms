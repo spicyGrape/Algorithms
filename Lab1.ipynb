{
 "cells": [
  {
   "cell_type": "markdown",
   "metadata": {
    "vscode": {
     "languageId": "plaintext"
    }
   },
   "source": [
    "Exercise 1 – Coin change\n",
    "Given an array of integer numbers that represent the values of each coin, and given a target amount, determine the minimum number of coins needed to create this amount. At first, try to solve this problem with regular coins (i.e., 1,5,10,20,50), then try with different irregular coin values (e.g., 1,7,12, 38).\n",
    "\n",
    "Example 1\n",
    "Given coin values (1, 2, 5,10,20,50), with \n",
    "Target amount = 7; solution = 2 coins (5,2)\n",
    "Target amount = 150; solution = 3 coins (50,50,50)\n",
    "Target amount = 28; solution = 4 coins (20,5,2,1)\n",
    " \n",
    "Example 2\n",
    "Given coin values (1,4,6), with:\n",
    "Target amount = 7; solution = 2 coins (6,1)\n",
    "Target amount = 9; solution = 3 coins (4,4,1)\n",
    " \n",
    "Only the number of coins is required, the coins used are not important for this exercise.\n",
    "\n",
    "Hint\n",
    "Which amounts require the fewest coins?\n"
   ]
  },
  {
   "cell_type": "code",
   "execution_count": null,
   "metadata": {},
   "outputs": [],
   "source": [
    "def get_input():\n",
    "    coins = get_coins()\n",
    "    targets = get_targets()\n",
    "    return coins, targets\n",
    "\n",
    "def get_coins():\n",
    "    line = input(\"Please enter the provided coins: \")\n",
    "    numbers = line.strip(\"()\").split(\", \")\n",
    "    coins = []\n",
    "    for number in numbers:\n",
    "        coins.append(int(number))\n",
    "    coins.sort()\n",
    "    return coins\n",
    "\n",
    "def get_targets():\n",
    "    targets = []\n",
    "    while True:\n",
    "        line = input(\"Please enter the target amount: \")\n",
    "        if line == \"STOP\":\n",
    "            break\n",
    "        targets.append(int(line))\n",
    "    return targets\n",
    "\n",
    "\n",
    "def dp(coins, target):\n",
    "    max_coins_amount = target // coins[0] + 1\n",
    "    states = [max_coins_amount] * (target+1)\n",
    "    states[0] = 0\n",
    "    for i in range(target + 1):\n",
    "        for coin in coins:\n",
    "            if i - coin >= 0 and states[i-coin]+1 < states[i]:\n",
    "                states[i] = states[i-coin]+1\n",
    "    return states[target]\n",
    "\n",
    "(coins, targets )= get_input()\n",
    "for target in targets:\n",
    "    print(dp(coins, target))\n",
    "\n",
    "        \n",
    "\n"
   ]
  },
  {
   "cell_type": "markdown",
   "metadata": {},
   "source": [
    "Exercise 2 – Fibonacci Sequence\n",
    "Given an integer number n, write two functions (one recursively and another iteratively) that output the nth Fibonacci number. A Fibonacci sequence is a series of numbers which starts from 0 and 1 and continues with each number (Fibonacci number) being the sum of the two preceding numbers. What’s the difference in space complexity between the iterative and recursive method? \n",
    "\n",
    "Examples:  \n",
    "•\tFibonacci(5) = 3 \n",
    "•\tFibonacci(10) = 34"
   ]
  },
  {
   "cell_type": "code",
   "execution_count": null,
   "metadata": {},
   "outputs": [],
   "source": [
    "class Fibonacci_rec:\n",
    "    def __init__(self, n):\n",
    "        self.states = [-1] * (n+1)\n",
    "        self.states[0] = 0\n",
    "        self.states[1] = 0\n",
    "        self.states[2] = 1\n",
    "    \n",
    "    def get_fibo_rec(self, n):\n",
    "        if self.states[n] != -1:\n",
    "            return self.states[n]\n",
    "        ans = self.get_fibo_rec(n-1) + self.get_fibo_rec(n-2)\n",
    "        self.states[n] = ans\n",
    "        return ans\n",
    "\n",
    "N = 10\n",
    "test1 = Fibonacci_rec(N)\n",
    "print(test1.get_fibo_rec(N))"
   ]
  },
  {
   "cell_type": "code",
   "execution_count": null,
   "metadata": {},
   "outputs": [],
   "source": [
    "def fibonacci_itr(n):\n",
    "    states = [0] * 3\n",
    "    states[0] = 0\n",
    "    states[1] = 0\n",
    "    states[2] = 1\n",
    "    for i in range(3, n+1):\n",
    "        states.append(states[i-1] + states[i-2])\n",
    "    print(states[n])\n",
    "    return(states[n])\n",
    "\n",
    "fibonacci_itr(5)\n",
    "fibonacci_itr(10)"
   ]
  },
  {
   "cell_type": "markdown",
   "metadata": {},
   "source": [
    "Exercise 3 – Balanced parenthesis\n",
    "Write an algorithm to check whether, given an input sequence of characters, the sequence contains balanced parenthesis. For example:\n",
    " \n",
    "((x*2)+(x-2)) – a[3] / a[10] is balanced\n",
    "(((x*2)+(x-2)) – a[3] / a[10] is not balanced\n",
    "\n",
    "Hint\n",
    "Use a stack to keep track of relevant information.\n"
   ]
  },
  {
   "cell_type": "code",
   "execution_count": 2,
   "metadata": {},
   "outputs": [
    {
     "name": "stdout",
     "output_type": "stream",
     "text": [
      "True\n"
     ]
    }
   ],
   "source": [
    "class ParenthesisStack():\n",
    "    def __init__(self):\n",
    "        self.parenthesis_stack = 0\n",
    "    \n",
    "    def push(self):\n",
    "        self.parenthesis_stack += 1\n",
    "    \n",
    "    def pop(self):\n",
    "        if self.parenthesis_stack > 0:\n",
    "            self.parenthesis_stack -= 1\n",
    "            return True\n",
    "        else:\n",
    "            return False\n",
    "    \n",
    "    def check_char(self, c):\n",
    "        if c == '(':\n",
    "            self.push()\n",
    "            return True\n",
    "        elif c == ')':\n",
    "            return self.pop()\n",
    "        else:\n",
    "            return True\n",
    "\n",
    "    def check_string(self, s):\n",
    "        balanced = True\n",
    "        for c in s:\n",
    "            if self.check_char(c) == False:\n",
    "                balanced = False\n",
    "        if self.parenthesis_stack != 0:\n",
    "            balanced = False\n",
    "        return balanced\n",
    "\n",
    "ps = ParenthesisStack()\n",
    "line = input(\"Please enter a String with parenthesis: \")\n",
    "print(ps.check_string(line))\n"
   ]
  }
 ],
 "metadata": {
  "kernelspec": {
   "display_name": "base",
   "language": "python",
   "name": "python3"
  },
  "language_info": {
   "codemirror_mode": {
    "name": "ipython",
    "version": 3
   },
   "file_extension": ".py",
   "mimetype": "text/x-python",
   "name": "python",
   "nbconvert_exporter": "python",
   "pygments_lexer": "ipython3",
   "version": "3.12.2"
  }
 },
 "nbformat": 4,
 "nbformat_minor": 2
}
