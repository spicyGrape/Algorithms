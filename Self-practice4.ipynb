{
 "cells": [
  {
   "cell_type": "code",
   "execution_count": 6,
   "metadata": {},
   "outputs": [
    {
     "data": {
      "text/plain": [
       "TestResults(failed=0, attempted=6)"
      ]
     },
     "execution_count": 6,
     "metadata": {},
     "output_type": "execute_result"
    }
   ],
   "source": [
    "class HeapSort:\n",
    "    def __init__(self, array):\n",
    "        self.heap_size = 0\n",
    "        self.array = [0] + array\n",
    "\n",
    "    def construct_heap(self):\n",
    "        n = len(self.array) - 1\n",
    "        self.heap_size = n\n",
    "        for i in range(n//2, 0, -1):\n",
    "            self.sink(i)\n",
    "        \n",
    "    def sink(self, i):\n",
    "        j = i * 2\n",
    "        if j > self.heap_size:\n",
    "            return\n",
    "        if j < self.heap_size and self.array[j] < self.array[j+1]:\n",
    "            j += 1\n",
    "        if self.array[i] < self.array[j]:\n",
    "            self.array[i], self.array[j] = self.array[j], self.array[i]\n",
    "            self.sink(j)\n",
    "    \n",
    "    def heap_sort(self):\n",
    "        \"\"\"\n",
    "        >>> h = HeapSort([1,3,5,2,4,6])\n",
    "        >>> h.heap_sort()\n",
    "        [1, 2, 3, 4, 5, 6]\n",
    "        \"\"\"\n",
    "        self.construct_heap()\n",
    "        while self.heap_size > 0:\n",
    "            self.array[1], self.array[self.heap_size] = self.array[self.heap_size], self.array[1]\n",
    "            self.heap_size -= 1\n",
    "            self.sink(1)\n",
    "        return self.array[1:]\n",
    "\n",
    "import doctest\n",
    "doctest.testmod()"
   ]
  },
  {
   "cell_type": "markdown",
   "metadata": {},
   "source": [
    "Exercise 1 – Permutations \n",
    "Given two integer arrays of size n, design an algorithm to determine whether one is a permutation of the other (i.e., they contain exactly the same entries but, possibly, in a different order). Your algorithm should have guaranteed sub-quadratic performance in the worst-case scenario. "
   ]
  },
  {
   "cell_type": "code",
   "execution_count": 7,
   "metadata": {},
   "outputs": [
    {
     "data": {
      "text/plain": [
       "TestResults(failed=0, attempted=6)"
      ]
     },
     "execution_count": 7,
     "metadata": {},
     "output_type": "execute_result"
    }
   ],
   "source": [
    "def is_permutation(arrayA, arrayB):\n",
    "    \"\"\"\n",
    "    >>> is_permutation([1,2,3],[3,2,1])\n",
    "    True\n",
    "    >>> is_permutation([1],[1,2,3])\n",
    "    False\n",
    "    >>> is_permutation([1,3,4], [4,1,3])\n",
    "    True\n",
    "    >>> is_permutation([2,3,4], [4,1,3])\n",
    "    False\n",
    "    \"\"\"\n",
    "    lA = len(arrayA)\n",
    "    lB = len(arrayB)\n",
    "    if not lA == lB:\n",
    "        return False\n",
    "    else:\n",
    "        a = HeapSort(arrayA).heap_sort()\n",
    "        b = HeapSort(arrayB).heap_sort()\n",
    "        for i in range(lA):\n",
    "            if a[i] != b[i]:\n",
    "                return False\n",
    "        return True\n",
    "doctest.testmod()"
   ]
  }
 ],
 "metadata": {
  "kernelspec": {
   "display_name": "base",
   "language": "python",
   "name": "python3"
  },
  "language_info": {
   "codemirror_mode": {
    "name": "ipython",
    "version": 3
   },
   "file_extension": ".py",
   "mimetype": "text/x-python",
   "name": "python",
   "nbconvert_exporter": "python",
   "pygments_lexer": "ipython3",
   "version": "3.12.2"
  }
 },
 "nbformat": 4,
 "nbformat_minor": 2
}
