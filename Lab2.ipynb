{
 "cells": [
  {
   "cell_type": "markdown",
   "metadata": {},
   "source": [
    "Exercise 1 – Unique paths\n",
    "Image you have a grid of r rows and c columns. You are standing at the top left corner of a grid (s) and you want to move to a goal (g). You can move through the grid only by moving right or down.  For any two given integers (r,c), how many unique paths exist to get from s to g?\n",
    "\n",
    "For a 2x2 grid the answer is 2. You can go down and right, or right and down:\n",
    "\n",
    "|s| |\n",
    "| |g|\n",
    "\n",
    "What for a grid r x c?\n",
    "\n",
    "Hint\n",
    "What happens if you reach the border of the grid?\n"
   ]
  },
  {
   "cell_type": "code",
   "execution_count": 1,
   "metadata": {},
   "outputs": [
    {
     "data": {
      "text/plain": [
       "TestResults(failed=0, attempted=1)"
      ]
     },
     "execution_count": 1,
     "metadata": {},
     "output_type": "execute_result"
    }
   ],
   "source": [
    "# The problem can be simplified to rearrange of (r-1) possible right moves and (c-1) down moves.\n",
    "# Rearranges = (r+c-2)!/(r-1)!(c-1)!\n",
    "\n",
    "def factoria(n):\n",
    "    product = 1\n",
    "    for i in range(1, n+1):\n",
    "        product *= i\n",
    "    return product\n",
    "\n",
    "def find_path(r,c):\n",
    "    return int(factoria(r+c-2)/(factoria(r-1)*factoria(c-1)))\n",
    "\n",
    "def test():\n",
    "    \"\"\"\n",
    "    >>> find_path(2, 2)\n",
    "    2\n",
    "    \"\"\"\n",
    "    pass\n",
    "\n",
    "import doctest\n",
    "doctest.testmod()"
   ]
  },
  {
   "cell_type": "markdown",
   "metadata": {},
   "source": [
    "Exercise 2 – Min-cost climbing stairs\n",
    "On a staircase, the i-th step has some non-negative cost cost[i] assigned to it. The staircase starts at index i=0. Once you pay the cost, you can either climb one or two steps. Design and implement an algorithm to find the minimum cost to reach the top floor. You can start your climb from either step index 0, or step index 1.\n",
    "\n",
    "For example, given a staircase of 9 floors (from 0 to 8) and input cost = [1, 100, 1, 1, 1, 100, 1, 1, 100, 1], the min-cost climb starting from 0 is 6.\n",
    "\n",
    "Hint\n",
    "Think from top to bottom, and bottom to top.\n"
   ]
  },
  {
   "cell_type": "code",
   "execution_count": 2,
   "metadata": {},
   "outputs": [
    {
     "data": {
      "text/plain": [
       "TestResults(failed=0, attempted=3)"
      ]
     },
     "execution_count": 2,
     "metadata": {},
     "output_type": "execute_result"
    }
   ],
   "source": [
    "# Bottom Up: DP\n",
    "\n",
    "MAX = 0xffffffff\n",
    "def find_min_cost(costs):\n",
    "\n",
    "    \"\"\"\n",
    "    >>> find_min_cost([1, 100, 1, 1, 1, 100, 1, 1, 100, 1])\n",
    "    6\n",
    "    \"\"\"\n",
    "\n",
    "    n = len(costs)\n",
    "    min_costs = [MAX] * (n+1)\n",
    "    min_costs[0] = 0\n",
    "    min_costs[1] = 0 + costs[0]\n",
    "    for i in range(2, (n+1)):\n",
    "        min_costs[i] = min(min_costs[i-1] + costs[i-1], min_costs[i-2] + costs[i-2])\n",
    "    return min_costs[n]\n",
    "\n",
    "# Top down: Memoization search\n",
    "\n",
    "def find_min_cost_with_memoization(costs):\n",
    "    \"\"\"\n",
    "    >>> find_min_cost_with_memoization([1, 100, 1, 1, 1, 100, 1, 1, 100, 1])\n",
    "    6\n",
    "    \"\"\"\n",
    "    n = len(costs)\n",
    "    min_costs = [-1] * (n+1)\n",
    "    min_costs[0] = 0\n",
    "    min_costs[1] = costs[0]\n",
    "    return search_min_cost(n, min_costs, costs)\n",
    "\n",
    "def search_min_cost(n, min_costs, costs):\n",
    "    if min_costs[n] != -1:\n",
    "        return min_costs[n]\n",
    "    else:\n",
    "        min_cost = min(search_min_cost(n-1, min_costs=min_costs, costs=costs) + costs[n-1], search_min_cost(n-2, min_costs=min_costs, costs = costs) + costs[n-2])\n",
    "        min_costs[n] = min_cost\n",
    "        return min_cost\n",
    "    \n",
    "\n",
    "\n",
    "import doctest\n",
    "doctest.testmod()"
   ]
  },
  {
   "cell_type": "markdown",
   "metadata": {},
   "source": [
    "Exercise 3 – Search in a bitonic array\n",
    "An array is bitonic if it is comprised of an increasing sequence of integers followed immediately by a decreasing sequence of integers. Write a program that, given a bitonic array of n distinct integer values, determines whether a given integer is in the array. Use  O(lg n) compares in the worst case.\n",
    "\n",
    "For example, the array [2,4,6,8,10,12,11,9,7,5,3] is bitonic, while the following are not: [1,2,3], [1,2,3,2,3],[5].\n",
    "\n",
    "Hint\n",
    "First, find the maximum integer using lg n compares—this divides the array into the increasing and decreasing pieces.\n"
   ]
  },
  {
   "cell_type": "code",
   "execution_count": 3,
   "metadata": {},
   "outputs": [
    {
     "data": {
      "text/plain": [
       "TestResults(failed=0, attempted=8)"
      ]
     },
     "execution_count": 3,
     "metadata": {},
     "output_type": "execute_result"
    }
   ],
   "source": [
    "class Bitonic_find():\n",
    "    def __init__(self, binonic_array: list[int]):\n",
    "        self.bitonic_array = binonic_array\n",
    "\n",
    "    def find(self, n):\n",
    "        \"\"\"\n",
    "        >>> b = Bitonic_find([2,4,6,8,10,12,11,9,7,5,3])\n",
    "        >>> b.find(1)\n",
    "        False\n",
    "        >>> b.find(2)\n",
    "        True\n",
    "        >>> b.find(3)\n",
    "        True\n",
    "        >>> b.find(12)\n",
    "        True\n",
    "        \"\"\"\n",
    "        array1, array2 = self.split_bitonic_array()\n",
    "        return self.find_increasing(array1, n) or self.find_decreasing(array2, n)\n",
    "\n",
    "    def split_bitonic_array(self):\n",
    "        head = 0\n",
    "        tail = len(self.bitonic_array)\n",
    "        while head < tail - 1:\n",
    "            mid = (head + tail) // 2\n",
    "            if mid - 1 >= 0 and self.bitonic_array[mid] > self.bitonic_array[mid -1]:\n",
    "                head = mid\n",
    "            if mid + 1 < len(self.bitonic_array) and self.bitonic_array[mid] > self.bitonic_array[mid + 1]:\n",
    "                tail = mid\n",
    "        return self.bitonic_array[:mid+1],self.bitonic_array[mid+1:] \n",
    "\n",
    "    def find_increasing(self, array, n):\n",
    "        head: int = 0\n",
    "        tail = len(array)\n",
    "        while head < tail :\n",
    "            mid = (head + tail) // 2\n",
    "            if array[mid] == n:\n",
    "                return True\n",
    "            elif array[mid] < n:\n",
    "                head = mid + 1\n",
    "            elif array[mid] > n:\n",
    "                tail = mid\n",
    "        return False\n",
    "\n",
    "    def find_decreasing(self, array, n):\n",
    "        head: int = 0\n",
    "        tail = len(array)\n",
    "        while head < tail :\n",
    "            mid = (head + tail) // 2\n",
    "            if array[mid] == n:\n",
    "                return True\n",
    "            elif array[mid] > n:\n",
    "                head = mid + 1\n",
    "            elif array[mid] < n:\n",
    "                tail = mid\n",
    "        return False\n",
    "\n",
    "import doctest\n",
    "doctest.testmod()"
   ]
  }
 ],
 "metadata": {
  "kernelspec": {
   "display_name": "base",
   "language": "python",
   "name": "python3"
  },
  "language_info": {
   "codemirror_mode": {
    "name": "ipython",
    "version": 3
   },
   "file_extension": ".py",
   "mimetype": "text/x-python",
   "name": "python",
   "nbconvert_exporter": "python",
   "pygments_lexer": "ipython3",
   "version": "3.12.2"
  }
 },
 "nbformat": 4,
 "nbformat_minor": 2
}
